{
 "cells": [
  {
   "cell_type": "code",
   "execution_count": 1,
   "outputs": [],
   "source": [
    "from similarity.dataset_similarity_metrics import c2st_accuracy\n",
    "from similarity.BoP import BoP\n",
    "import numpy as np\n",
    "import matplotlib.pyplot as plt\n",
    "from datahandler import load_data\n",
    "from utils import dict_to_np, dps_to_np\n",
    "from sklearn.neighbors import KDTree "
   ],
   "metadata": {
    "collapsed": false,
    "ExecuteTime": {
     "end_time": "2025-03-01T11:38:37.248731600Z",
     "start_time": "2025-03-01T11:38:36.138100200Z"
    }
   },
   "id": "def1a39105911ee7"
  },
  {
   "cell_type": "code",
   "execution_count": 2,
   "outputs": [],
   "source": [
    "dataname = \"complex9\"\n",
    "parameters = 0\n",
    "gen_folder = \"./gen_data\"\n",
    "mc_folder = \"./mc_data\"\n",
    "bop_folder = \"./bop\"\n",
    "bop_centroids = 100"
   ],
   "metadata": {
    "collapsed": false,
    "ExecuteTime": {
     "end_time": "2025-03-01T11:38:37.263879500Z",
     "start_time": "2025-03-01T11:38:37.249734Z"
    }
   },
   "id": "initial_id"
  },
  {
   "cell_type": "code",
   "execution_count": 3,
   "outputs": [],
   "source": [
    "true_X, true_y = load_data(dataname)\n",
    "datalength = len(true_y)"
   ],
   "metadata": {
    "collapsed": false,
    "ExecuteTime": {
     "end_time": "2025-03-01T11:38:37.279000600Z",
     "start_time": "2025-03-01T11:38:37.263879500Z"
    }
   },
   "id": "27c4473c532a13fa"
  },
  {
   "cell_type": "code",
   "execution_count": 4,
   "outputs": [
    {
     "name": "stdout",
     "output_type": "stream",
     "text": [
      "(3031, 2)\n",
      "(3031,)\n",
      "3031\n"
     ]
    }
   ],
   "source": [
    "print(true_X.shape)\n",
    "print(true_y.shape)\n",
    "print(datalength)"
   ],
   "metadata": {
    "collapsed": false,
    "ExecuteTime": {
     "end_time": "2025-03-01T11:38:37.295138Z",
     "start_time": "2025-03-01T11:38:37.281008700Z"
    }
   },
   "id": "f0629b0df10f8b10"
  },
  {
   "cell_type": "code",
   "execution_count": 5,
   "outputs": [],
   "source": [
    "def get_mc_centers(dataname, parameters, timestep, mc_folder):\n",
    "    mcs = np.load(f\"./{mc_folder}/mcs_{dataname}_clustream_1000_100_1000_False_{parameters}_{timestep}.npy\", allow_pickle=True)\n",
    "    mc_centers = []\n",
    "    for mc in mcs:\n",
    "        mc_center = dict_to_np(mc[1])\n",
    "        mc_centers.append(mc_center)\n",
    "    return mc_centers"
   ],
   "metadata": {
    "collapsed": false,
    "ExecuteTime": {
     "end_time": "2025-03-01T11:38:37.327397400Z",
     "start_time": "2025-03-01T11:38:37.297159400Z"
    }
   },
   "id": "8c951b732322a812"
  },
  {
   "cell_type": "code",
   "execution_count": 6,
   "outputs": [],
   "source": [
    "def get_gen_data(dataname, parameters, timestep, gen_folder, gen_type):\n",
    "    data = np.load(f\"./{gen_folder}/data_{dataname}_{gen_type}_1000_100_1000_False_{parameters}_{timestep}.npy\", allow_pickle=True)\n",
    "    return data"
   ],
   "metadata": {
    "collapsed": false,
    "ExecuteTime": {
     "end_time": "2025-03-01T11:38:37.330439500Z",
     "start_time": "2025-03-01T11:38:37.311269500Z"
    }
   },
   "id": "5efd8ed2ba06a1a0"
  },
  {
   "cell_type": "code",
   "execution_count": 8,
   "outputs": [
    {
     "name": "stdout",
     "output_type": "stream",
     "text": [
      "\tclustream 1000 BoP: 0.035 C2ST-R: 0.887 C2ST-O: 0.000 NN-dist 0.025\n",
      "\tclustream 2000 BoP: 0.030 C2ST-R: 0.859 C2ST-O: 0.000 NN-dist 0.028\n",
      "\tclustream 3000 BoP: 0.027 C2ST-R: 0.881 C2ST-O: 0.000 NN-dist 0.026\n",
      "\tclustream 3031 BoP: 0.352 C2ST-R: 0.032 C2ST-O: 0.560 NN-dist 0.025\n",
      "clustream BoP 0.034 C2ST-R: 0.867 C2ST-O: 0.006 NN-dist 0.0262\n",
      "\twclustream 1000 BoP: 0.003 C2ST-R: 0.887 C2ST-O: 0.995 NN-dist 0.025\n",
      "\twclustream 2000 BoP: 0.084 C2ST-R: 0.860 C2ST-O: 0.975 NN-dist 0.028\n",
      "\twclustream 3000 BoP: 0.020 C2ST-R: 0.882 C2ST-O: 0.993 NN-dist 0.026\n",
      "\twclustream 3031 BoP: 0.333 C2ST-R: 0.032 C2ST-O: 0.999 NN-dist 0.025\n",
      "wclustream BoP 0.039 C2ST-R: 0.868 C2ST-O: 0.987 NN-dist 0.0262\n",
      "\tscope_full 1000 BoP: 0.004 C2ST-R: 0.464 C2ST-O: 0.503 NN-dist 0.011\n",
      "\tscope_full 2000 BoP: 0.043 C2ST-R: 0.520 C2ST-O: 0.579 NN-dist 0.014\n",
      "\tscope_full 3000 BoP: 0.015 C2ST-R: 0.440 C2ST-O: 0.478 NN-dist 0.011\n",
      "\tscope_full 3031 BoP: 0.336 C2ST-R: 0.000 C2ST-O: 0.971 NN-dist 0.011\n",
      "scope_full BoP 0.024 C2ST-R: 0.470 C2ST-O: 0.524 NN-dist 0.0119\n",
      "\tscope 1000 BoP: 0.004 C2ST-R: 0.454 C2ST-O: 0.528 NN-dist 0.011\n",
      "\tscope 2000 BoP: 0.040 C2ST-R: 0.517 C2ST-O: 0.611 NN-dist 0.015\n",
      "\tscope 3000 BoP: 0.014 C2ST-R: 0.431 C2ST-O: 0.503 NN-dist 0.011\n",
      "\tscope 3031 BoP: 0.343 C2ST-R: 0.000 C2ST-O: 0.976 NN-dist 0.011\n",
      "scope BoP 0.023 C2ST-R: 0.463 C2ST-O: 0.552 NN-dist 0.0122\n"
     ]
    }
   ],
   "source": [
    "for offline_type in [\"clustream\", \"wclustream\", \"scope_full\", \"scope\"]:\n",
    "    bop_jsd_sum = 0\n",
    "    c2st_real_sum = 0\n",
    "    c2st_offline_sum = 0\n",
    "    nndists_sum = 0\n",
    "    for i in range(1000, datalength+1000, 1000):\n",
    "        cur_ts = min(i, datalength)\n",
    "        real_subset = true_X[i-1000:i]\n",
    "        #print(bop_subset.ref_bop)\n",
    "        #print(real_subset[0])\n",
    "        offline_data = []\n",
    "        if offline_type == \"clustream\":\n",
    "            offline_data = get_mc_centers(dataname, parameters, cur_ts, mc_folder)\n",
    "            offline_data = np.array(offline_data)\n",
    "        else:\n",
    "            offline_data = get_gen_data(dataname, parameters, cur_ts, gen_folder, offline_type)\n",
    "            offline_data = np.array(offline_data)\n",
    "        bop_subset = BoP(offline_data, bop_centroids, f\"{bop_folder}/{dataname}/{offline_type}/{i}\")\n",
    "        #print(offline_data[0])\n",
    "        bop_scores = bop_subset.evaluate(real_subset)\n",
    "        bop_jsd_sum += bop_scores['JS']*len(real_subset)\n",
    "        c2st_real, c2st_offline = c2st_accuracy(real_subset,offline_data)\n",
    "        c2st_real_sum += c2st_real*len(real_subset)\n",
    "        c2st_offline_sum += c2st_offline*len(real_subset)\n",
    "        kdtree = KDTree(offline_data)\n",
    "        nndists, _ = kdtree.query(real_subset)\n",
    "        #print(nndists)\n",
    "        nndist_avg = np.sum(nndists)/len(nndists)\n",
    "        nndists_sum += np.sum(nndists)\n",
    "        print(f\"\\t{offline_type} {cur_ts} BoP: {bop_scores['JS']:.3f} C2ST-R: {c2st_real:.3f} C2ST-O: {c2st_offline:.3f} NN-dist {nndist_avg:.3f}\")\n",
    "    \n",
    "    bop_jsd_avg = bop_jsd_sum/datalength\n",
    "    c2st_real_avg = c2st_real_sum/datalength\n",
    "    c2st_offline_avg = c2st_offline_sum/datalength\n",
    "    nndists_avg = nndists_sum/datalength\n",
    "    print(f\"{offline_type} BoP {bop_jsd_sum/datalength:.3f} C2ST-R: {c2st_real_avg:.3f} C2ST-O: {c2st_offline_avg:.3f} NN-dist {nndists_avg:.4f}\")\n",
    "        #BoP()"
   ],
   "metadata": {
    "collapsed": false,
    "ExecuteTime": {
     "end_time": "2025-03-01T11:47:11.027322100Z",
     "start_time": "2025-03-01T11:46:41.070161200Z"
    }
   },
   "id": "d79f6e03d744a31c"
  },
  {
   "cell_type": "code",
   "execution_count": 7,
   "outputs": [],
   "source": [],
   "metadata": {
    "collapsed": false,
    "ExecuteTime": {
     "end_time": "2025-03-01T11:39:07.874317Z",
     "start_time": "2025-03-01T11:39:07.860194800Z"
    }
   },
   "id": "641f634cd26e2b5"
  }
 ],
 "metadata": {
  "kernelspec": {
   "display_name": "Python 3",
   "language": "python",
   "name": "python3"
  },
  "language_info": {
   "codemirror_mode": {
    "name": "ipython",
    "version": 2
   },
   "file_extension": ".py",
   "mimetype": "text/x-python",
   "name": "python",
   "nbconvert_exporter": "python",
   "pygments_lexer": "ipython2",
   "version": "2.7.6"
  }
 },
 "nbformat": 4,
 "nbformat_minor": 5
}
